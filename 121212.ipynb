{
 "cells": [
  {
   "cell_type": "code",
   "execution_count": null,
   "metadata": {},
   "outputs": [],
   "source": [
    "import requests\n",
    "from requests.exceptions import ConnectionError\n",
    "from pyquery import PyQuery as pq\n",
    "import pymongo\n"
   ]
  },
  {
   "cell_type": "code",
   "execution_count": null,
   "metadata": {},
   "outputs": [],
   "source": [
    "client = pymongo.MongoClient('localhost')\n",
    "db = client['yiou']"
   ]
  },
  {
   "cell_type": "code",
   "execution_count": null,
   "metadata": {},
   "outputs": [],
   "source": [
    "def get_html(url):\n",
    "    try:\n",
    "        response= requests.get(url,allow_redirects=False)\n",
    "        if response.status_code == 200:\n",
    "            return response.text\n",
    "    except ConnectionError:\n",
    "        return get_html(url)"
   ]
  },
  {
   "cell_type": "code",
   "execution_count": null,
   "metadata": {},
   "outputs": [],
   "source": [
    "def get_url(i):\n",
    "    page=580\n",
    "    url =  'https://www.iyiou.com/qiche/'+str(i)+'.html'\n",
    "    html = get_html(url)\n",
    "    return html"
   ]
  },
  {
   "cell_type": "code",
   "execution_count": null,
   "metadata": {},
   "outputs": [],
   "source": [
    "def parse_url(html):\n",
    "    doc = pq(html)\n",
    "    items = doc('.industryPostList.borderE6 .newestArticleList li .text.fl a').items()\n",
    "    for item in items:\n",
    "        yield item.attr('href')"
   ]
  },
  {
   "cell_type": "code",
   "execution_count": null,
   "metadata": {},
   "outputs": [],
   "source": [
    "def get_detail(url):\n",
    "    try:\n",
    "        response = requests.get(url)\n",
    "        if response.status_code == 200:\n",
    "            return response.text\n",
    "        return None\n",
    "    except ConnectionError:\n",
    "        return None"
   ]
  },
  {
   "cell_type": "code",
   "execution_count": null,
   "metadata": {},
   "outputs": [],
   "source": [
    "def parse_detail(html):\n",
    "    doc = pq(html)\n",
    "    title = doc('#post_title').text()\n",
    "    date = doc('#post_date').text()\n",
    "    brief = doc('#post_brief').text()\n",
    "    content = doc('#post_description').text()\n",
    "    return{\n",
    "        'title':title,\n",
    "        'date':date,\n",
    "        'brief':brief,\n",
    "        'content':content\n",
    "    }"
   ]
  },
  {
   "cell_type": "code",
   "execution_count": null,
   "metadata": {},
   "outputs": [],
   "source": [
    "def save_to_mongo(data):\n",
    "    if db['articles'].update({'title':data['title']},{'$set':data},True):\n",
    "        print('Save to Mongo',data['title'])\n",
    "    else:\n",
    "        print('Save to Mongo Failed',data['title'])"
   ]
  },
  {
   "cell_type": "code",
   "execution_count": null,
   "metadata": {},
   "outputs": [],
   "source": [
    "def main():\n",
    "    for i in range(59,570):\n",
    "        html = get_url(i)\n",
    "        if html:\n",
    "            article_urls = parse_url(html)\n",
    "            for article_url in article_urls:\n",
    "                article_html = get_detail(article_url)\n",
    "                if article_html:\n",
    "                    article_data = parse_detail(article_html)\n",
    "                    print(article_data)\n",
    "                    save_to_mongo(article_data)\n"
   ]
  },
  {
   "cell_type": "code",
   "execution_count": null,
   "metadata": {},
   "outputs": [],
   "source": [
    "if __name__ == '__main__':\n",
    "    main()"
   ]
  }
 ],
 "metadata": {
  "kernelspec": {
   "display_name": "Python 3",
   "language": "python",
   "name": "python3"
  },
  "language_info": {
   "codemirror_mode": {
    "name": "ipython",
    "version": 3
   },
   "file_extension": ".py",
   "mimetype": "text/x-python",
   "name": "python",
   "nbconvert_exporter": "python",
   "pygments_lexer": "ipython3",
   "version": "3.7.0"
  }
 },
 "nbformat": 4,
 "nbformat_minor": 2
}
